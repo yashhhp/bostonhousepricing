{
  "cells": [
    {
      "cell_type": "code",
      "execution_count": null,
      "metadata": {
        "id": "7PXgIlbPI_tI"
      },
      "outputs": [],
      "source": [
        " import pandas as pd\n",
        " import numpy as np\n",
        " import seaborn as sns\n",
        " import matplotlib.pyplot as plt\n",
        " %matplotlib inline"
      ]
    },
    {
      "cell_type": "code",
      "execution_count": null,
      "metadata": {
        "colab": {
          "base_uri": "https://localhost:8080/"
        },
        "id": "MrqT2jaZLeCs",
        "outputId": "fc084620-eb21-4320-ceab-63bb431065a7"
      },
      "outputs": [],
      "source": [
        "from sklearn.datasets import load_boston\n",
        "boston_df=load_boston()"
      ]
    },
    {
      "cell_type": "code",
      "execution_count": null,
      "metadata": {
        "colab": {
          "base_uri": "https://localhost:8080/"
        },
        "id": "15CHpBp0LoUh",
        "outputId": "cb5e65a5-d669-4815-d513-305c9b7471a2"
      },
      "outputs": [],
      "source": [
        "boston_df.keys()"
      ]
    },
    {
      "cell_type": "code",
      "execution_count": null,
      "metadata": {
        "colab": {
          "base_uri": "https://localhost:8080/"
        },
        "id": "bz3uDxOPLvFA",
        "outputId": "4bb541cf-b687-49b4-8da2-2929e5fd7538"
      },
      "outputs": [],
      "source": [
        "print(boston_df.DESCR)"
      ]
    },
    {
      "cell_type": "code",
      "execution_count": null,
      "metadata": {
        "colab": {
          "base_uri": "https://localhost:8080/"
        },
        "id": "f1B-exgSL3gZ",
        "outputId": "f876ba1f-8310-42ac-cfd8-19a028a475f4"
      },
      "outputs": [],
      "source": [
        "boston_df.target"
      ]
    },
    {
      "cell_type": "code",
      "execution_count": null,
      "metadata": {
        "colab": {
          "base_uri": "https://localhost:8080/"
        },
        "id": "Uce0NrtpMddN",
        "outputId": "4d74d856-dce0-4cf0-feb7-15c0109ee08c"
      },
      "outputs": [],
      "source": [
        "boston_df.feature_names"
      ]
    },
    {
      "cell_type": "code",
      "execution_count": null,
      "metadata": {
        "id": "vfD9kdYFMq5R"
      },
      "outputs": [],
      "source": [
        "df=pd.DataFrame(boston_df.data,columns=boston_df.feature_names)"
      ]
    },
    {
      "cell_type": "code",
      "execution_count": null,
      "metadata": {
        "colab": {
          "base_uri": "https://localhost:8080/",
          "height": 206
        },
        "id": "fndw23jlM5oG",
        "outputId": "e91754d2-9dc9-4eca-df0d-b4bb1d41de4b"
      },
      "outputs": [],
      "source": [
        "df.head()"
      ]
    },
    {
      "cell_type": "code",
      "execution_count": null,
      "metadata": {
        "id": "wMFWqn6RNMVr"
      },
      "outputs": [],
      "source": [
        "df['Price']=boston_df.target"
      ]
    },
    {
      "cell_type": "code",
      "execution_count": null,
      "metadata": {
        "colab": {
          "base_uri": "https://localhost:8080/",
          "height": 206
        },
        "id": "X3poGvXKNjV5",
        "outputId": "232cc134-7dd4-436e-b659-9310fd6cf7ed"
      },
      "outputs": [],
      "source": [
        "df.head()"
      ]
    },
    {
      "cell_type": "code",
      "execution_count": null,
      "metadata": {
        "colab": {
          "base_uri": "https://localhost:8080/"
        },
        "id": "gIm_8aOcNkuH",
        "outputId": "655d2506-e562-481d-8530-66fcde3a08f2"
      },
      "outputs": [],
      "source": [
        "df.info()"
      ]
    },
    {
      "cell_type": "code",
      "execution_count": null,
      "metadata": {
        "colab": {
          "base_uri": "https://localhost:8080/",
          "height": 364
        },
        "id": "LH6o4eRkOLl0",
        "outputId": "d2d6d8f8-aa37-49c7-dd80-b1d96bcbaab8"
      },
      "outputs": [],
      "source": [
        "df.describe()"
      ]
    },
    {
      "cell_type": "code",
      "execution_count": null,
      "metadata": {
        "colab": {
          "base_uri": "https://localhost:8080/"
        },
        "id": "lqeeNx6aOOUG",
        "outputId": "e00070a8-1e34-4269-c194-c19c33547283"
      },
      "outputs": [],
      "source": [
        "df.isnull().sum()"
      ]
    },
    {
      "cell_type": "code",
      "execution_count": null,
      "metadata": {
        "colab": {
          "base_uri": "https://localhost:8080/",
          "height": 552
        },
        "id": "_ISjpNJzOWve",
        "outputId": "c0ae4ee3-9c45-4e19-d6c7-9b4ff8f72e65"
      },
      "outputs": [],
      "source": [
        "df.corr()"
      ]
    },
    {
      "cell_type": "code",
      "execution_count": null,
      "metadata": {
        "colab": {
          "base_uri": "https://localhost:8080/",
          "height": 1000
        },
        "id": "YXrQ3ZaQOz0G",
        "outputId": "8dd219a2-9d98-4f6f-c842-a69df49908ac"
      },
      "outputs": [],
      "source": [
        "sns.pairplot(df)"
      ]
    },
    {
      "cell_type": "code",
      "execution_count": null,
      "metadata": {
        "colab": {
          "base_uri": "https://localhost:8080/",
          "height": 296
        },
        "id": "MD2SzKumQHV4",
        "outputId": "1afd8eee-37e4-4ba4-a9ac-aba77aa3c7a9"
      },
      "outputs": [],
      "source": [
        "plt.scatter(df['CRIM'],df['Price'])\n",
        "plt.xlabel('Crime')\n",
        "plt.ylabel('Price')"
      ]
    },
    {
      "cell_type": "code",
      "execution_count": null,
      "metadata": {
        "colab": {
          "base_uri": "https://localhost:8080/",
          "height": 296
        },
        "id": "IYXsjCrbQuR1",
        "outputId": "137f22c5-f053-47b5-f2d3-b033fc4480d1"
      },
      "outputs": [],
      "source": [
        "plt.scatter(df['RM'],df['Price'])\n",
        "plt.xlabel('RM')\n",
        "plt.ylabel('Price')"
      ]
    },
    {
      "cell_type": "code",
      "execution_count": null,
      "metadata": {
        "colab": {
          "base_uri": "https://localhost:8080/",
          "height": 296
        },
        "id": "Qm2W7g_HRPFs",
        "outputId": "1820161d-e8b9-4cce-db4e-ae495c8b9ea3"
      },
      "outputs": [],
      "source": [
        "sns.regplot(data=df,x='LSTAT',y='Price')\n",
        "##LSTAT is negatively co-related with Price"
      ]
    },
    {
      "cell_type": "code",
      "execution_count": null,
      "metadata": {
        "colab": {
          "base_uri": "https://localhost:8080/",
          "height": 296
        },
        "id": "8OIxHB0ORWuI",
        "outputId": "f4b9cb9f-fe31-4635-b79d-74e11ce8d255"
      },
      "outputs": [],
      "source": [
        "sns.regplot(data=df,x='CHAS',y='Price')"
      ]
    },
    {
      "cell_type": "code",
      "execution_count": null,
      "metadata": {
        "colab": {
          "base_uri": "https://localhost:8080/",
          "height": 296
        },
        "id": "2hXakRCyRyXR",
        "outputId": "5a63801b-8ffc-462d-8b41-b1e776c87556"
      },
      "outputs": [],
      "source": [
        "sns.regplot(data=df,x='PTRATIO',y='Price')"
      ]
    },
    {
      "cell_type": "code",
      "execution_count": null,
      "metadata": {
        "id": "hZ2UnCaWSGF1"
      },
      "outputs": [],
      "source": [
        "X=df.iloc[:,:-1]\n",
        "y=df.iloc[:,-1]"
      ]
    },
    {
      "cell_type": "code",
      "execution_count": null,
      "metadata": {
        "id": "DoDa21qKU3po"
      },
      "outputs": [],
      "source": [
        "from sklearn.model_selection import train_test_split\n",
        "X_train,X_test,y_train,y_test=train_test_split(X,y,test_size=0.3,random_state=42)"
      ]
    },
    {
      "cell_type": "code",
      "execution_count": null,
      "metadata": {
        "colab": {
          "base_uri": "https://localhost:8080/",
          "height": 424
        },
        "id": "9Lo3rmpDVbBX",
        "outputId": "70bafb7d-4d80-48c0-95e2-78460aefba1d"
      },
      "outputs": [],
      "source": [
        "X_train"
      ]
    },
    {
      "cell_type": "code",
      "execution_count": null,
      "metadata": {
        "id": "uToZLW9xVcwV"
      },
      "outputs": [],
      "source": [
        "from sklearn.preprocessing import StandardScaler\n",
        "scaler=StandardScaler()\n",
        "X_train=scaler.fit_transform(X_train)\n",
        "X_test=scaler.transform(X_test)"
      ]
    },
    {
      "cell_type": "code",
      "execution_count": null,
      "metadata": {
        "colab": {
          "base_uri": "https://localhost:8080/"
        },
        "id": "qdnliJlYWDFI",
        "outputId": "e3e45a4f-c6ce-47cc-88cb-0b9773e6d9f4"
      },
      "outputs": [],
      "source": [
        "from sklearn.linear_model import LinearRegression\n",
        "reg=LinearRegression()\n",
        "reg.fit(X_train,y_train)"
      ]
    },
    {
      "cell_type": "code",
      "execution_count": null,
      "metadata": {
        "colab": {
          "base_uri": "https://localhost:8080/"
        },
        "id": "QnOjwc-9WlM7",
        "outputId": "3be4f5e0-47d7-4aa4-aa19-5664dc4a7277"
      },
      "outputs": [],
      "source": [
        "print(reg.coef_)"
      ]
    },
    {
      "cell_type": "code",
      "execution_count": null,
      "metadata": {
        "id": "wQZMxfY4WxLj"
      },
      "outputs": [],
      "source": [
        "reg_pred=reg.predict(X_test)\n"
      ]
    },
    {
      "cell_type": "code",
      "execution_count": null,
      "metadata": {
        "colab": {
          "base_uri": "https://localhost:8080/",
          "height": 282
        },
        "id": "--d7_O5rXDmE",
        "outputId": "ee5bddb2-91e7-4b26-bc36-f192e518d84c"
      },
      "outputs": [],
      "source": [
        "plt.scatter(reg_pred,y_test)"
      ]
    },
    {
      "cell_type": "code",
      "execution_count": null,
      "metadata": {
        "colab": {
          "base_uri": "https://localhost:8080/"
        },
        "id": "HZewgw2EXibS",
        "outputId": "cb3ba7e2-7f69-427e-cbfb-3f4911566a23"
      },
      "outputs": [],
      "source": [
        "cost=y_test-reg_pred\n",
        "cost"
      ]
    },
    {
      "cell_type": "code",
      "execution_count": null,
      "metadata": {
        "colab": {
          "base_uri": "https://localhost:8080/",
          "height": 386
        },
        "id": "jnyeZ28IX3LG",
        "outputId": "d67e278e-137e-4c47-d112-fcde2e2417cd"
      },
      "outputs": [],
      "source": [
        "sns.displot(cost,kind='kde')"
      ]
    },
    {
      "cell_type": "code",
      "execution_count": null,
      "metadata": {
        "colab": {
          "base_uri": "https://localhost:8080/"
        },
        "id": "R_FJlCMBYBfZ",
        "outputId": "829020d2-ffb1-49fb-fc82-9226456b9db3"
      },
      "outputs": [],
      "source": [
        "from sklearn.metrics import mean_squared_error,mean_absolute_error\n",
        "print(\"mean_squared_error\",mean_squared_error(y_test,reg_pred))\n",
        "print(\"mean_absolute_error\",mean_absolute_error(y_test,reg_pred))"
      ]
    },
    {
      "cell_type": "code",
      "execution_count": null,
      "metadata": {
        "id": "14BAEM-mZA0S"
      },
      "outputs": [],
      "source": [
        "from sklearn.metrics import r2_score\n",
        "score=r2_score(y_test,reg_pred)"
      ]
    },
    {
      "cell_type": "code",
      "execution_count": null,
      "metadata": {
        "colab": {
          "base_uri": "https://localhost:8080/"
        },
        "id": "uDV25PafgOmv",
        "outputId": "9ea88637-122b-4be2-f6ac-b90bd87da8b0"
      },
      "outputs": [],
      "source": [
        "score"
      ]
    },
    {
      "cell_type": "code",
      "execution_count": null,
      "metadata": {
        "colab": {
          "base_uri": "https://localhost:8080/"
        },
        "id": "YMj4FvqygppZ",
        "outputId": "829c39b5-2ec1-470a-b788-6468e4be783f"
      },
      "outputs": [],
      "source": [
        "reg.predict(scaler.transform(boston_df.data[0].reshape(1,-1)))"
      ]
    },
    {
      "cell_type": "code",
      "execution_count": null,
      "metadata": {
        "id": "FhSqh57og4Ar"
      },
      "outputs": [],
      "source": [
        "import pickle"
      ]
    },
    {
      "cell_type": "code",
      "execution_count": null,
      "metadata": {
        "id": "wvYos0XohVfD"
      },
      "outputs": [],
      "source": [
        "pickle.dump(reg,open('regmodel.pkl','wb'))"
      ]
    },
    {
      "cell_type": "code",
      "execution_count": null,
      "metadata": {
        "id": "Qx7Am8tzhx2r"
      },
      "outputs": [],
      "source": [
        "pickle_model=pickle.load(open('regmodel.pkl','rb'))"
      ]
    },
    {
      "cell_type": "code",
      "execution_count": null,
      "metadata": {
        "colab": {
          "base_uri": "https://localhost:8080/"
        },
        "id": "4qflO_y_h8s3",
        "outputId": "201f7996-ae9e-4ce1-e88e-2322835ed71e"
      },
      "outputs": [],
      "source": [
        "pickle_model.predict(scaler.transform(boston_df.data[0].reshape(1,-1)))"
      ]
    },
    {
      "cell_type": "code",
      "execution_count": null,
      "metadata": {
        "id": "k-DIASi6iDwB"
      },
      "outputs": [],
      "source": []
    }
  ],
  "metadata": {
    "colab": {
      "provenance": []
    },
    "kernelspec": {
      "display_name": "Python 3.7.11 ('env_y')",
      "language": "python",
      "name": "python3"
    },
    "language_info": {
      "name": "python",
      "version": "3.7.11"
    },
    "vscode": {
      "interpreter": {
        "hash": "468845054df6fad17af0cf83978461e1b6ba6544c112d368360054f404ac8b7e"
      }
    }
  },
  "nbformat": 4,
  "nbformat_minor": 0
}
